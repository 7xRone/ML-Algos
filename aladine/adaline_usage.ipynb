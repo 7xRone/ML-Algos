{
 "cells": [
  {
   "cell_type": "code",
   "execution_count": 1,
   "id": "eb26dcf0-1178-4768-b860-f2b03d1bcbf2",
   "metadata": {},
   "outputs": [],
   "source": [
    "import numpy as np"
   ]
  },
  {
   "cell_type": "code",
   "execution_count": 8,
   "id": "863e6c55-a9f2-46f9-a9ee-79ec0d9827da",
   "metadata": {},
   "outputs": [],
   "source": [
    "class AladineGD:\n",
    "    \"\"\"\n",
    "    ADAptive LInear NEuros classifier\n",
    "\n",
    "    Parameters\n",
    "    ------------\n",
    "    eta:\n",
    "        learning rate\n",
    "    epochs:\n",
    "        passes over data\n",
    "    random_state:\n",
    "        a seed to generate random number for weights initialization\n",
    "\n",
    "    Attributes\n",
    "    -------------\n",
    "    weights:\n",
    "        weights after fitting\n",
    "    bias:\n",
    "        bias after fitting\n",
    "    losses:\n",
    "        MSE(mean squared error) loss function values in each epoch\n",
    "    \"\"\"\n",
    "\n",
    "    def __init__(self, eta=0.01, epochs=10, random_state=1):\n",
    "        self.eta = eta\n",
    "        self.epochs = epochs\n",
    "        self.random_state = random_state\n",
    "    def fit(self, X,y):\n",
    "        \"\"\"\n",
    "        Parameters\n",
    "        ------------\n",
    "        X: [n_examples, n_features]\n",
    "        y: [n_examples]\n",
    "\n",
    " \n",
    "        returns\n",
    "        --------\n",
    "        self: obj\n",
    "        \"\"\"\n",
    "        rgen = np.random.RandomState(self.random_state)\n",
    "        self.weights = rgen.normal(loc=0.0, size=X.shape[1], scale=0.01)\n",
    "\n",
    "        self.bias = np.float(0.)\n",
    "        self.losses = []\n",
    "\n",
    "        for i in range(self.epochs):\n",
    "            net_input = self.net_input(X)\n",
    "            output = self.activation(net_input)\n",
    "            errors = (y - output)\n",
    "            self.weights += self.eta * 2.0 * X.T.dot(errors) / X.shape[0]\n",
    "            self.bias += self.eta * 2.0 * errors.mean()\n",
    "            loss = (errors**2).mean()\n",
    "            self.losses_.append(loss)\n",
    "        return self\n",
    "\n",
    "        def net_input(self, X):\n",
    "            return np.dot(X, self.weights) + self.bias\n",
    "            \n",
    "        def activation(self, X):\n",
    "            return X\n",
    "            \n",
    "        def predict(self, X):\n",
    "            return np.where(self.activation(self.net_input(x)) >= 0.5, 1,0)"
   ]
  },
  {
   "cell_type": "code",
   "execution_count": null,
   "id": "87444eba-55c8-4f03-a086-88b9584f1599",
   "metadata": {},
   "outputs": [],
   "source": []
  }
 ],
 "metadata": {
  "kernelspec": {
   "display_name": "Python 3 (ipykernel)",
   "language": "python",
   "name": "python3"
  },
  "language_info": {
   "codemirror_mode": {
    "name": "ipython",
    "version": 3
   },
   "file_extension": ".py",
   "mimetype": "text/x-python",
   "name": "python",
   "nbconvert_exporter": "python",
   "pygments_lexer": "ipython3",
   "version": "3.11.8"
  }
 },
 "nbformat": 4,
 "nbformat_minor": 5
}
