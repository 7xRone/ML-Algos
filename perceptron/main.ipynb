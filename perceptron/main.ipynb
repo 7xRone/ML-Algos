{
 "cells": [
  {
   "cell_type": "markdown",
   "id": "36c50f61-14e8-4170-9664-cf1d8a89bbf0",
   "metadata": {},
   "source": [
    "# implementing the perceptron"
   ]
  },
  {
   "cell_type": "code",
   "execution_count": 99,
   "id": "a615cf4c-d121-4b06-aa1a-56114f6821c6",
   "metadata": {},
   "outputs": [],
   "source": [
    "import numpy as np"
   ]
  },
  {
   "cell_type": "code",
   "execution_count": 100,
   "id": "27a3c93d-af53-45d3-bab4-ad92c61a19cd",
   "metadata": {},
   "outputs": [],
   "source": [
    "class Perceptron:\n",
    "    \"\"\"\n",
    "    Paramaters\n",
    "    -----------\n",
    "    epochs : int\n",
    "        number of iterations\n",
    "    eta : int\n",
    "        learning rate\n",
    "    randome state : int\n",
    "        seed for random number generator\n",
    "\n",
    "    Attributes\n",
    "    -----------\n",
    "    weights_ : array\n",
    "    bias_ : int\n",
    "    errors_ : list\n",
    "        number of misclassification in each epoch\n",
    "    \"\"\"\n",
    "    def __init__(self, eta=0.01, epochs=50, random_state=1):\n",
    "        self.eta = eta\n",
    "        self.epochs = epochs\n",
    "        self.random_state = random_state\n",
    "    \n",
    "    def fit(self,X,y):\n",
    "        rgen = np.random.RandomState(self.random_state)\n",
    "        self.weights_ = rgen.normal(loc=0.0,size=X.shape[1],scale=0.01)\n",
    "        self.bias_ = np.float_(0.)\n",
    "        self.errors_ = []\n",
    "        for _ in range(self.epochs):\n",
    "            errors = 0\n",
    "            for xi, targets in zip(X,y):\n",
    "                update = self.eta * (targets - self.predict(xi))\n",
    "                self.weights_ += update * xi\n",
    "                self.bias_ += update\n",
    "                errors += int(update != 0.0)\n",
    "            self.errors_.append(errors)\n",
    "            #print(self.weights_)\n",
    "        return self\n",
    "\n",
    "    def net_input(self,X):\n",
    "        \"return z in for sigma(z)= wx + b\"\n",
    "        return np.dot(X, self.weights_) + self.bias_\n",
    "        \n",
    "    def predict(self,X):\n",
    "        return np.where(self.net_input(X) >= 0.0, 1,0)"
   ]
  },
  {
   "cell_type": "markdown",
   "id": "985102a6-7393-4369-aaa7-7c8d6a03e224",
   "metadata": {},
   "source": [
    "# testing the perceptron"
   ]
  },
  {
   "cell_type": "code",
   "execution_count": 101,
   "id": "bfcf585f-9007-48e7-856b-976979499e5e",
   "metadata": {},
   "outputs": [
    {
     "name": "stdout",
     "output_type": "stream",
     "text": [
      "Weights:  [-0.00375655 -0.00611756]\n",
      "Bias:  0.0\n"
     ]
    }
   ],
   "source": [
    "X = np.array([[0, 0], [0, 1], [1, 0], [1, 1]])\n",
    "y = np.array([0, 1, 1, 0])\n",
    "p = Perceptron(eta=0.01,epochs=100)\n",
    "p.fit(X,y)\n",
    "\n",
    "print(\"Weights: \",p.weights_)\n",
    "print(\"Bias: \",p.bias_)"
   ]
  },
  {
   "cell_type": "markdown",
   "id": "129b245f-65cd-40f9-ab72-77311596bdfc",
   "metadata": {},
   "source": [
    "# using the perceptron with the iris data"
   ]
  },
  {
   "cell_type": "code",
   "execution_count": 102,
   "id": "1ac7a99c-adfe-4b61-8b3f-9fb117dd4f8f",
   "metadata": {},
   "outputs": [],
   "source": [
    "import pandas as pd"
   ]
  },
  {
   "cell_type": "code",
   "execution_count": 103,
   "id": "c98fd557-913a-411d-8b72-b614467e59f2",
   "metadata": {},
   "outputs": [],
   "source": [
    "iris_data_link = \"https://archive.ics.uci.edu/ml/machine-learning-databases/iris/iris.data\"\n",
    "df = pd.read_csv(iris_data_link, header=None, encoding=\"utf-8\")"
   ]
  },
  {
   "cell_type": "code",
   "execution_count": 108,
   "id": "4493d428-12e8-4311-8811-de5095717269",
   "metadata": {},
   "outputs": [
    {
     "data": {
      "image/png": "[encoded data removed]",
      "text/plain": [
       "<Figure size 640x480 with 1 Axes>"
      ]
     },
     "metadata": {},
     "output_type": "display_data"
    }
   ],
   "source": [
    "#ploting data\n",
    "\n",
    "import matplotlib.pyplot as plt\n",
    "\n",
    "y = df.iloc[0:100,4].values\n",
    "y = np.where(y == 'Iris-setosa', 0, 1)\n",
    "\n",
    "X = df.iloc[0:100,[0,2]].values\n",
    "\n",
    "plt.scatter(X[:50,0],X[:50,1],color=\"red\",marker=\"o\",label=\"Setosa\")\n",
    "plt.scatter(X[50:100,0],X[50:100,1],color=\"green\",marker=\"s\",label='Versicolor')\n",
    "plt.xlabel(\"Sepal lenght [cm]\")\n",
    "plt.ylabel(\"Petal lenght [cm]\")\n",
    "plt.legend(loc=\"upper left\")\n",
    "plt.show()"
   ]
  }
 ],
 "metadata": {
  "kernelspec": {
   "display_name": "Python 3 (ipykernel)",
   "language": "python",
   "name": "python3"
  },
  "language_info": {
   "codemirror_mode": {
    "name": "ipython",
    "version": 3
   },
   "file_extension": ".py",
   "mimetype": "text/x-python",
   "name": "python",
   "nbconvert_exporter": "python",
   "pygments_lexer": "ipython3",
   "version": "3.11.8"
  }
 },
 "nbformat": 4,
 "nbformat_minor": 5
}
