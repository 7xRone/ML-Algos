{
 "cells": [
  {
   "cell_type": "code",
   "execution_count": 5,
   "id": "a615cf4c-d121-4b06-aa1a-56114f6821c6",
   "metadata": {},
   "outputs": [],
   "source": [
    "import numpy as np"
   ]
  },
  {
   "cell_type": "code",
   "execution_count": 6,
   "id": "27a3c93d-af53-45d3-bab4-ad92c61a19cd",
   "metadata": {},
   "outputs": [],
   "source": [
    "class Perceptron:\n",
    "    \"\"\"\n",
    "    Paramaters\n",
    "    -----------\n",
    "    epochs : int\n",
    "        number of iterations\n",
    "    eta : int\n",
    "        learning rate\n",
    "    randome state : int\n",
    "        seed for random number generator\n",
    "\n",
    "    Attributes\n",
    "    -----------\n",
    "    weights_ : array\n",
    "    bias_ : int\n",
    "    errors_ : list\n",
    "        number of misclassification in each epoch\n",
    "    \"\"\"\n",
    "    def __init__(self, eta=0.01, epochs=50, random_state=1):\n",
    "        self.eta = eta\n",
    "        self.epochs = epochs\n",
    "        self.random_state = random_state\n",
    "    \n",
    "    def fit(self,X,y):\n",
    "        rgen = np.random.RandomState(self.random_state)\n",
    "        self.weights_ = rgen.normal(loc=0.0,size=X.shape[0],scale=0.01)\n",
    "        self.bias_ = np.float_(0.)\n",
    "        self.errors_ = []\n",
    "        for _ in range(self.epochs):\n",
    "            epochs = 0\n",
    "            for xi, targets in zip(X,y):\n",
    "                update = self.eta * (targets - self.predict(xi))\n",
    "                self.weights_ += update * xi\n",
    "                self.bias_ += update\n",
    "                errors += int(update != 0.0)\n",
    "            self.errors_.append(errors)\n",
    "        return self\n",
    "\n",
    "    def net_input(self,X):\n",
    "        \"return z in for sigma(z)= wx + b\"\n",
    "        return np.dot(X, self.weights_) + self.bias_\n",
    "        \n",
    "    def predict(self,X):\n",
    "        return np.where(self.net_input(X) >= 0.0, 1,0)"
   ]
  },
  {
   "cell_type": "markdown",
   "id": "985102a6-7393-4369-aaa7-7c8d6a03e224",
   "metadata": {},
   "source": [
    "# testing the perceptron"
   ]
  },
  {
   "cell_type": "code",
   "execution_count": 7,
   "id": "0c8c1006-4472-49df-977b-1bc2452367e9",
   "metadata": {},
   "outputs": [
    {
     "ename": "NameError",
     "evalue": "name 'random_state' is not defined",
     "output_type": "error",
     "traceback": [
      "\u001b[0;31m---------------------------------------------------------------------------\u001b[0m",
      "\u001b[0;31mNameError\u001b[0m                                 Traceback (most recent call last)",
      "Cell \u001b[0;32mIn[7], line 4\u001b[0m\n\u001b[1;32m      2\u001b[0m y \u001b[38;5;241m=\u001b[39m np\u001b[38;5;241m.\u001b[39marray([\u001b[38;5;241m0\u001b[39m, \u001b[38;5;241m1\u001b[39m, \u001b[38;5;241m1\u001b[39m, \u001b[38;5;241m0\u001b[39m])\n\u001b[1;32m      3\u001b[0m p \u001b[38;5;241m=\u001b[39m Perceptron()\n\u001b[0;32m----> 4\u001b[0m \u001b[43mp\u001b[49m\u001b[38;5;241;43m.\u001b[39;49m\u001b[43mfit\u001b[49m\u001b[43m(\u001b[49m\u001b[43mX\u001b[49m\u001b[43m,\u001b[49m\u001b[43my\u001b[49m\u001b[43m)\u001b[49m\n\u001b[1;32m      6\u001b[0m \u001b[38;5;28mprint\u001b[39m(\u001b[38;5;124m\"\u001b[39m\u001b[38;5;124mWeights: \u001b[39m\u001b[38;5;124m\"\u001b[39m,p\u001b[38;5;241m.\u001b[39mweights_)\n\u001b[1;32m      7\u001b[0m \u001b[38;5;28mprint\u001b[39m(\u001b[38;5;124m\"\u001b[39m\u001b[38;5;124mBias: \u001b[39m\u001b[38;5;124m\"\u001b[39m,p\u001b[38;5;241m.\u001b[39mbias_)\n",
      "Cell \u001b[0;32mIn[6], line 25\u001b[0m, in \u001b[0;36mPerceptron.fit\u001b[0;34m(self, X, y)\u001b[0m\n\u001b[1;32m     24\u001b[0m \u001b[38;5;28;01mdef\u001b[39;00m \u001b[38;5;21mfit\u001b[39m(\u001b[38;5;28mself\u001b[39m,X,y):\n\u001b[0;32m---> 25\u001b[0m     rgen \u001b[38;5;241m=\u001b[39m np\u001b[38;5;241m.\u001b[39mrandom\u001b[38;5;241m.\u001b[39mRandomState(\u001b[43mrandom_state\u001b[49m)\n\u001b[1;32m     26\u001b[0m     \u001b[38;5;28mself\u001b[39m\u001b[38;5;241m.\u001b[39mweights_ \u001b[38;5;241m=\u001b[39m rgen\u001b[38;5;241m.\u001b[39mnormal(loc\u001b[38;5;241m=\u001b[39m\u001b[38;5;241m0.0\u001b[39m,size\u001b[38;5;241m=\u001b[39mX\u001b[38;5;241m.\u001b[39mshape[\u001b[38;5;241m0\u001b[39m],scale\u001b[38;5;241m=\u001b[39m\u001b[38;5;241m0.01\u001b[39m)\n\u001b[1;32m     27\u001b[0m     \u001b[38;5;28mself\u001b[39m\u001b[38;5;241m.\u001b[39mbias_ \u001b[38;5;241m=\u001b[39m np\u001b[38;5;241m.\u001b[39mfloat_(\u001b[38;5;241m0.\u001b[39m)\n",
      "\u001b[0;31mNameError\u001b[0m: name 'random_state' is not defined"
     ]
    }
   ],
   "source": [
    "X = np.array([[0, 0], [0, 1], [1, 0], [1, 1]])\n",
    "y = np.array([0, 1, 1, 0])\n",
    "p = Perceptron()\n",
    "p.fit(X,y)\n",
    "\n",
    "print(\"Weights: \",p.weights_)\n",
    "print(\"Bias: \",p.bias_)"
   ]
  }
 ],
 "metadata": {
  "kernelspec": {
   "display_name": "Python 3 (ipykernel)",
   "language": "python",
   "name": "python3"
  },
  "language_info": {
   "codemirror_mode": {
    "name": "ipython",
    "version": 3
   },
   "file_extension": ".py",
   "mimetype": "text/x-python",
   "name": "python",
   "nbconvert_exporter": "python",
   "pygments_lexer": "ipython3",
   "version": "3.11.8"
  }
 },
 "nbformat": 4,
 "nbformat_minor": 5
}
