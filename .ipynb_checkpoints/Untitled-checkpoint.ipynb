{
 "cells": [
  {
   "cell_type": "code",
   "execution_count": 3,
   "id": "a615cf4c-d121-4b06-aa1a-56114f6821c6",
   "metadata": {},
   "outputs": [],
   "source": [
    "import numpy as np"
   ]
  },
  {
   "cell_type": "code",
   "execution_count": 4,
   "id": "27a3c93d-af53-45d3-bab4-ad92c61a19cd",
   "metadata": {},
   "outputs": [
    {
     "data": {
      "text/plain": [
       "array([1, 4])"
      ]
     },
     "execution_count": 4,
     "metadata": {},
     "output_type": "execute_result"
    }
   ],
   "source": [
    "class Perceptron:\n",
    "    \"\"\"\n",
    "    Paramaters\n",
    "    -----------\n",
    "    epochs : int\n",
    "        number of iterations\n",
    "    eta : int\n",
    "        learning rate\n",
    "    randome state : int\n",
    "        seed for random number generator\n",
    "\n",
    "    Attributes\n",
    "    -----------\n",
    "    weights_ : array\n",
    "    bias_ : int\n",
    "    errors_ : list\n",
    "        number of misclassification in each epoch\n",
    "    \"\"\"\n",
    "    def __init__(self, eta=0.01, epochs=50, random_state=1):\n",
    "        self.eta = eta\n",
    "        self.epochs = epochs\n",
    "        self.random_state = random_state\n",
    "    def fit(self,X,y)\n",
    "        \n",
    "        "
   ]
  }
 ],
 "metadata": {
  "kernelspec": {
   "display_name": "Python 3 (ipykernel)",
   "language": "python",
   "name": "python3"
  },
  "language_info": {
   "codemirror_mode": {
    "name": "ipython",
    "version": 3
   },
   "file_extension": ".py",
   "mimetype": "text/x-python",
   "name": "python",
   "nbconvert_exporter": "python",
   "pygments_lexer": "ipython3",
   "version": "3.11.8"
  }
 },
 "nbformat": 4,
 "nbformat_minor": 5
}
